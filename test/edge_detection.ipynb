{
 "cells": [
  {
   "cell_type": "code",
   "execution_count": 1,
   "metadata": {},
   "outputs": [],
   "source": [
    "import cv2\n",
    "from matplotlib import pyplot as plt\n",
    "import matplotlib.image as mpimg\n",
    "from math import sqrt\n",
    "import numpy as np"
   ]
  },
  {
   "cell_type": "code",
   "execution_count": 2,
   "metadata": {},
   "outputs": [],
   "source": [
    "class sobel_edge_detector:\n",
    "    def __init__(self, path=None, img=None):\n",
    "        if path != None:\n",
    "            self.image = mpimg.imread(path)\n",
    "        else:\n",
    "            self.image = img\n",
    "        self.orig_img = self.image\n",
    "        self.vertical_grad_filter = np.array(\n",
    "            [[1, 0, -1], [2, 0, -2], [1, 0, -1]])\n",
    "        self.horizontal_grad_filter = np.array(\n",
    "            [[1, 2, 1], [0, 0, 0], [-1, -2, -1]])\n",
    "        print(self.image)\n",
    "\n",
    "    def cvt2gray(self):\n",
    "        self.image = np.dot(self.image, [1, 1, 1])//3\n",
    "        self.image = self.image/255\n",
    "        print(self.image)\n",
    "\n",
    "    def detect_edges(self):\n",
    "        self.cvt2gray()\n",
    "        kernel_width = self.vertical_grad_filter.shape[0]//2\n",
    "        grad_ = np.zeros(self.image.shape)\n",
    "\n",
    "        self.image = np.pad(self.image, pad_width=([kernel_width, ], [kernel_width, ]),\n",
    "                            mode='constant', constant_values=(0, 0))\n",
    "        for i in range(kernel_width, self.image.shape[0] - kernel_width):\n",
    "            for j in range(kernel_width, self.image.shape[1] - kernel_width):\n",
    "                x = self.image[i - kernel_width: i + kernel_width +\n",
    "                               1, j - kernel_width: j + kernel_width + 1]\n",
    "                x = x.flatten() * self.vertical_grad_filter.flatten()\n",
    "                sum_x = x.sum()\n",
    "\n",
    "                y = self.image[i - kernel_width: i + kernel_width +\n",
    "                               1, j - kernel_width: j + kernel_width + 1]\n",
    "                y = y.flatten() * self.horizontal_grad_filter.flatten()\n",
    "                sum_y = y.sum()\n",
    "\n",
    "                grad_[i - kernel_width][j -\n",
    "                                        kernel_width] = sqrt(sum_x**2 + sum_y**2)\n",
    "        self.image = grad_\n",
    "        return self.image\n",
    "        # loc_time = time.localtime(time.time())\n",
    "        # m = str(loc_time.tm_year) + str(loc_time.tm_mon) + str(loc_time.tm_mday) + str(loc_time.tm_hour) + str(loc_time.tm_min) + str(loc_time.tm_sec)\n",
    "        # img_save_name = 'sobel_edge_det_' + m + \".jpg\"\n",
    "        # plt.imsave(img_save_name, self.image)\n",
    "\n",
    "    def show_image(self, orig=0):\n",
    "        if orig == 1:\n",
    "            plt.imshow(self.orig_img)\n",
    "            plt.show()\n",
    "        if orig == 0:\n",
    "            for i in range(len(self.image)):\n",
    "                for j in range(len(self.image[0])):\n",
    "                    self.image[i][j] = 1 - self.image[i][j]\n",
    "            plt.imshow(self.image, cmap='gray')\n",
    "            plt.show()"
   ]
  },
  {
   "cell_type": "code",
   "execution_count": null,
   "metadata": {},
   "outputs": [],
   "source": [
    "s = sobel_edge_detector(path='test.jpg')"
   ]
  }
 ],
 "metadata": {
  "kernelspec": {
   "display_name": "Python 3",
   "language": "python",
   "name": "python3"
  },
  "language_info": {
   "codemirror_mode": {
    "name": "ipython",
    "version": 3
   },
   "file_extension": ".py",
   "mimetype": "text/x-python",
   "name": "python",
   "nbconvert_exporter": "python",
   "pygments_lexer": "ipython3",
   "version": "3.11.1"
  },
  "orig_nbformat": 4
 },
 "nbformat": 4,
 "nbformat_minor": 2
}
